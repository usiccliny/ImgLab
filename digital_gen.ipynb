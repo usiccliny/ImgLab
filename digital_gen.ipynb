{
 "cells": [
  {
   "cell_type": "code",
   "execution_count": 5,
   "metadata": {},
   "outputs": [],
   "source": [
    "import os\n",
    "import random\n",
    "from PIL import Image, ImageDraw, ImageFont"
   ]
  },
  {
   "cell_type": "code",
   "execution_count": null,
   "metadata": {},
   "outputs": [
    {
     "name": "stdout",
     "output_type": "stream",
     "text": [
      "Генерация изображений завершена! Проверьте папку: digit_images\n"
     ]
    }
   ],
   "source": [
    "output_folder = 'digit_images'\n",
    "num_images_per_digit = 1000\n",
    "image_size = (28, 28) \n",
    "\n",
    "font_sizes = [20, 22, 24, 26]\n",
    "random.seed(42)\n",
    "\n",
    "if not os.path.exists(output_folder):\n",
    "    os.makedirs(output_folder)\n",
    "\n",
    "for digit in range(10):\n",
    "    digit_folder = os.path.join(output_folder, str(digit))\n",
    "    if not os.path.exists(digit_folder):\n",
    "        os.makedirs(digit_folder)\n",
    "\n",
    "    for i in range(num_images_per_digit):\n",
    "        img = Image.new('L', image_size, color=255)\n",
    "        draw = ImageDraw.Draw(img)\n",
    "\n",
    "        font_size = random.choice(font_sizes)\n",
    "        font = ImageFont.load_default()\n",
    "\n",
    "        text = str(digit)\n",
    "        text_width, text_height = draw.textbbox((0, 0), text, font=font)[2:4]\n",
    "        \n",
    "        text_x = random.randint(0, image_size[0] - text_width)\n",
    "        text_y = random.randint(0, image_size[1] - text_height)\n",
    "\n",
    "        draw.text((text_x, text_y), text, fill=0, font=font)\n",
    "\n",
    "        img.save(os.path.join(digit_folder, f'{digit}_{i}.png'))\n",
    "\n",
    "print(f'Генерация изображений завершена! Проверьте папку: {output_folder}')"
   ]
  }
 ],
 "metadata": {
  "kernelspec": {
   "display_name": "Python 3",
   "language": "python",
   "name": "python3"
  },
  "language_info": {
   "codemirror_mode": {
    "name": "ipython",
    "version": 3
   },
   "file_extension": ".py",
   "mimetype": "text/x-python",
   "name": "python",
   "nbconvert_exporter": "python",
   "pygments_lexer": "ipython3",
   "version": "3.11.5"
  }
 },
 "nbformat": 4,
 "nbformat_minor": 2
}
