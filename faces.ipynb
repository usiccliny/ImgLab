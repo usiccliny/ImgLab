{
 "cells": [
  {
   "cell_type": "code",
   "execution_count": 1,
   "metadata": {},
   "outputs": [
    {
     "ename": "ModuleNotFoundError",
     "evalue": "No module named 'cv2'",
     "output_type": "error",
     "traceback": [
      "\u001b[1;31m---------------------------------------------------------------------------\u001b[0m",
      "\u001b[1;31mModuleNotFoundError\u001b[0m                       Traceback (most recent call last)",
      "Cell \u001b[1;32mIn[1], line 2\u001b[0m\n\u001b[0;32m      1\u001b[0m \u001b[38;5;28;01mimport\u001b[39;00m \u001b[38;5;21;01mglob\u001b[39;00m\n\u001b[1;32m----> 2\u001b[0m \u001b[38;5;28;01mimport\u001b[39;00m \u001b[38;5;21;01mcv2\u001b[39;00m\n",
      "\u001b[1;31mModuleNotFoundError\u001b[0m: No module named 'cv2'"
     ]
    }
   ],
   "source": [
    "import glob\n",
    "import cv2"
   ]
  },
  {
   "cell_type": "code",
   "execution_count": null,
   "metadata": {},
   "outputs": [],
   "source": [
    "import numpy as np"
   ]
  },
  {
   "cell_type": "code",
   "execution_count": null,
   "metadata": {},
   "outputs": [
    {
     "name": "stderr",
     "output_type": "stream",
     "text": [
      "Using TensorFlow backend.\n"
     ]
    }
   ],
   "source": [
    "import keras\n",
    "from keras.datasets import mnist\n",
    "from keras.models import Sequential\n",
    "from keras.layers import Dense, Dropout, Flatten\n",
    "from keras.layers import Conv2D, MaxPooling2D\n",
    "from keras import backend as K"
   ]
  },
  {
   "cell_type": "code",
   "execution_count": null,
   "metadata": {},
   "outputs": [],
   "source": [
    "from keras.preprocessing.image import ImageDataGenerator"
   ]
  },
  {
   "cell_type": "code",
   "execution_count": null,
   "metadata": {},
   "outputs": [],
   "source": [
    "from sklearn.model_selection import train_test_split"
   ]
  },
  {
   "cell_type": "code",
   "execution_count": null,
   "metadata": {},
   "outputs": [],
   "source": [
    "import matplotlib.pyplot as plt\n",
    "%matplotlib inline"
   ]
  },
  {
   "cell_type": "markdown",
   "metadata": {},
   "source": [
    "### Создаём аугментатор"
   ]
  },
  {
   "cell_type": "code",
   "execution_count": null,
   "metadata": {},
   "outputs": [],
   "source": [
    "datagen = ImageDataGenerator(\n",
    "        rotation_range=20,\n",
    "        width_shift_range=0.2,\n",
    "        height_shift_range=0.2,\n",
    "        shear_range=0.2,\n",
    "        zoom_range=0.2,\n",
    "        horizontal_flip=True,\n",
    "        fill_mode='nearest')"
   ]
  },
  {
   "cell_type": "markdown",
   "metadata": {},
   "source": [
    "### Выбираем размер изображений"
   ]
  },
  {
   "cell_type": "code",
   "execution_count": null,
   "metadata": {},
   "outputs": [],
   "source": [
    "img_rows, img_cols = 64, 64\n",
    "input_shape = (img_rows, img_cols, 1)"
   ]
  },
  {
   "cell_type": "markdown",
   "metadata": {},
   "source": [
    "### Загружаем набор данных"
   ]
  },
  {
   "cell_type": "code",
   "execution_count": null,
   "metadata": {},
   "outputs": [],
   "source": [
    "age_labels = []\n",
    "gender_labels = []\n",
    "images = []\n",
    "\n",
    "for image_name in glob.glob('./UTKFace/*.jpg'):\n",
    "    items = image_name.rsplit('/',1)[1].split('_')\n",
    "    \n",
    "    age = int(items[0])\n",
    "    gender = int(items[1])\n",
    "    \n",
    "    age_labels.append(age)\n",
    "    gender_labels.append(gender)\n",
    "    \n",
    "    image = cv2.imread(image_name)\n",
    "    \n",
    "    gray_image = cv2.cvtColor(image, cv2.COLOR_BGR2GRAY)\n",
    "    gray_image = cv2.resize(gray_image,(img_rows, img_cols), interpolation = cv2.INTER_CUBIC)    \n",
    "    gray_image = gray_image.reshape((img_rows, img_cols, 1))\n",
    "    \n",
    "    images.append(gray_image)\n",
    "\n",
    "age_labels = np.array(age_labels)\n",
    "gender_labels = np.array(gender_labels)\n",
    "images = np.array(images)"
   ]
  },
  {
   "cell_type": "code",
   "execution_count": null,
   "metadata": {},
   "outputs": [],
   "source": [
    "images = images / 255.0"
   ]
  },
  {
   "cell_type": "code",
   "execution_count": null,
   "metadata": {},
   "outputs": [],
   "source": [
    "X_train, X_test, y_train, y_test = train_test_split(images, gender_labels, test_size=0.3, random_state=42)\n",
    "# X_train, X_test, y_train, y_test = train_test_split(images, age_labels, test_size=0.3, random_state=42)"
   ]
  },
  {
   "cell_type": "code",
   "execution_count": null,
   "metadata": {},
   "outputs": [],
   "source": [
    "num_classes = np.unique(gender_labels).shape[0]"
   ]
  },
  {
   "cell_type": "code",
   "execution_count": null,
   "metadata": {},
   "outputs": [],
   "source": [
    "y_train = keras.utils.to_categorical(y_train, num_classes)\n",
    "y_test = keras.utils.to_categorical(y_test, num_classes)"
   ]
  },
  {
   "cell_type": "markdown",
   "metadata": {},
   "source": [
    "### Создаём модель"
   ]
  },
  {
   "cell_type": "code",
   "execution_count": null,
   "metadata": {},
   "outputs": [],
   "source": [
    "model = Sequential()\n",
    "model.add(Conv2D(32, kernel_size=(3, 3),\n",
    "                 activation='relu',\n",
    "                 input_shape=input_shape))\n",
    "model.add(Conv2D(64, (3, 3), activation='relu'))\n",
    "model.add(MaxPooling2D(pool_size=(2, 2)))\n",
    "model.add(Dropout(0.25))\n",
    "model.add(Conv2D(64, (3, 3), activation='relu'))\n",
    "model.add(Conv2D(96, (3, 3), activation='relu'))\n",
    "model.add(MaxPooling2D(pool_size=(2, 2)))\n",
    "model.add(Dropout(0.25))\n",
    "model.add(Flatten())\n",
    "model.add(Dense(256, activation='relu'))\n",
    "model.add(Dropout(0.5))\n",
    "model.add(Dense(num_classes, activation='softmax'))\n",
    "# model.add(Dense(1, kernel_initializer='normal'))"
   ]
  },
  {
   "cell_type": "code",
   "execution_count": null,
   "metadata": {},
   "outputs": [],
   "source": [
    "model.compile(loss='binary_crossentropy',\n",
    "              optimizer='rmsprop',\n",
    "              metrics=['accuracy'])\n",
    "# model.compile(loss='mean_squared_error',\n",
    "#               optimizer='rmsprop',\n",
    "#               metrics=['mse', 'mae', 'mape'])"
   ]
  },
  {
   "cell_type": "markdown",
   "metadata": {},
   "source": [
    "### Обучаем модель"
   ]
  },
  {
   "cell_type": "code",
   "execution_count": null,
   "metadata": {},
   "outputs": [],
   "source": [
    "datagen.fit(X_train)"
   ]
  },
  {
   "cell_type": "code",
   "execution_count": null,
   "metadata": {},
   "outputs": [],
   "source": [
    "batch_size = 32\n",
    "epochs = 100"
   ]
  },
  {
   "cell_type": "code",
   "execution_count": null,
   "metadata": {},
   "outputs": [
    {
     "name": "stdout",
     "output_type": "stream",
     "text": [
      "Epoch 1/100\n",
      "519/519 [==============================] - 21s 41ms/step - loss: 0.6572 - acc: 0.6299 - val_loss: 0.5791 - val_acc: 0.7074\n",
      "Epoch 2/100\n",
      "519/519 [==============================] - 20s 38ms/step - loss: 0.6102 - acc: 0.6704 - val_loss: 0.5215 - val_acc: 0.7377\n",
      "Epoch 3/100\n",
      "519/519 [==============================] - 20s 38ms/step - loss: 0.5750 - acc: 0.7076 - val_loss: 0.4728 - val_acc: 0.7819\n",
      "Epoch 4/100\n",
      "519/519 [==============================] - 20s 38ms/step - loss: 0.5377 - acc: 0.7311 - val_loss: 0.4295 - val_acc: 0.8015\n",
      "Epoch 5/100\n",
      "519/519 [==============================] - 20s 38ms/step - loss: 0.5038 - acc: 0.7550 - val_loss: 0.3803 - val_acc: 0.8275\n",
      "Epoch 6/100\n",
      "519/519 [==============================] - 20s 38ms/step - loss: 0.4818 - acc: 0.7712 - val_loss: 0.3643 - val_acc: 0.8414\n",
      "Epoch 7/100\n",
      "519/519 [==============================] - 20s 38ms/step - loss: 0.4572 - acc: 0.7894 - val_loss: 0.3644 - val_acc: 0.8482\n",
      "Epoch 8/100\n",
      "519/519 [==============================] - 20s 38ms/step - loss: 0.4467 - acc: 0.7942 - val_loss: 0.3325 - val_acc: 0.8548\n",
      "Epoch 9/100\n",
      "519/519 [==============================] - 20s 38ms/step - loss: 0.4353 - acc: 0.8053 - val_loss: 0.3213 - val_acc: 0.8597\n",
      "Epoch 10/100\n",
      "519/519 [==============================] - 20s 38ms/step - loss: 0.4235 - acc: 0.8082 - val_loss: 0.3349 - val_acc: 0.8629\n",
      "Epoch 11/100\n",
      "519/519 [==============================] - 20s 38ms/step - loss: 0.4184 - acc: 0.8110 - val_loss: 0.3014 - val_acc: 0.8681\n",
      "Epoch 12/100\n",
      "519/519 [==============================] - 20s 38ms/step - loss: 0.4172 - acc: 0.8126 - val_loss: 0.3158 - val_acc: 0.8648\n",
      "Epoch 13/100\n",
      "519/519 [==============================] - 20s 38ms/step - loss: 0.4138 - acc: 0.8126 - val_loss: 0.3572 - val_acc: 0.8611\n",
      "Epoch 14/100\n",
      "519/519 [==============================] - 20s 38ms/step - loss: 0.4113 - acc: 0.8184 - val_loss: 0.4772 - val_acc: 0.8368\n",
      "Epoch 15/100\n",
      "519/519 [==============================] - 20s 38ms/step - loss: 0.4104 - acc: 0.8186 - val_loss: 0.2948 - val_acc: 0.8777\n",
      "Epoch 16/100\n",
      "519/519 [==============================] - 20s 38ms/step - loss: 0.4018 - acc: 0.8224 - val_loss: 0.3299 - val_acc: 0.8642\n",
      "Epoch 17/100\n",
      "519/519 [==============================] - 20s 38ms/step - loss: 0.4069 - acc: 0.8187 - val_loss: 0.3027 - val_acc: 0.8712\n",
      "Epoch 18/100\n",
      "519/519 [==============================] - 20s 38ms/step - loss: 0.4051 - acc: 0.8167 - val_loss: 0.2960 - val_acc: 0.8773\n",
      "Epoch 19/100\n",
      "519/519 [==============================] - 20s 38ms/step - loss: 0.4004 - acc: 0.8241 - val_loss: 0.2927 - val_acc: 0.8806\n",
      "Epoch 20/100\n",
      "519/519 [==============================] - 20s 38ms/step - loss: 0.4031 - acc: 0.8205 - val_loss: 0.3589 - val_acc: 0.8452\n",
      "Epoch 21/100\n",
      "519/519 [==============================] - 20s 38ms/step - loss: 0.4108 - acc: 0.8171 - val_loss: 0.3179 - val_acc: 0.8607\n",
      "Epoch 22/100\n",
      "519/519 [==============================] - 20s 38ms/step - loss: 0.4117 - acc: 0.8231 - val_loss: 0.4782 - val_acc: 0.8141\n",
      "Epoch 23/100\n",
      "519/519 [==============================] - 20s 38ms/step - loss: 0.4007 - acc: 0.8245 - val_loss: 0.2851 - val_acc: 0.8851\n",
      "Epoch 24/100\n",
      "519/519 [==============================] - 20s 38ms/step - loss: 0.4000 - acc: 0.8237 - val_loss: 0.3091 - val_acc: 0.8778\n",
      "Epoch 25/100\n",
      "519/519 [==============================] - 20s 38ms/step - loss: 0.4041 - acc: 0.8250 - val_loss: 0.2824 - val_acc: 0.8801\n",
      "Epoch 26/100\n",
      "519/519 [==============================] - 20s 38ms/step - loss: 0.4060 - acc: 0.8233 - val_loss: 0.3065 - val_acc: 0.8750\n",
      "Epoch 27/100\n",
      "519/519 [==============================] - 20s 38ms/step - loss: 0.4186 - acc: 0.8187 - val_loss: 0.3173 - val_acc: 0.8735\n",
      "Epoch 28/100\n",
      "519/519 [==============================] - 20s 38ms/step - loss: 0.4147 - acc: 0.8141 - val_loss: 0.3124 - val_acc: 0.8753\n",
      "Epoch 29/100\n",
      "519/519 [==============================] - 20s 38ms/step - loss: 0.4242 - acc: 0.8160 - val_loss: 0.3047 - val_acc: 0.8680\n",
      "Epoch 30/100\n",
      "519/519 [==============================] - 20s 38ms/step - loss: 0.4176 - acc: 0.8202 - val_loss: 1.3747 - val_acc: 0.6404\n",
      "Epoch 31/100\n",
      "519/519 [==============================] - 20s 38ms/step - loss: 0.4207 - acc: 0.8158 - val_loss: 0.3131 - val_acc: 0.8756\n",
      "Epoch 32/100\n",
      "519/519 [==============================] - 20s 38ms/step - loss: 0.4242 - acc: 0.8135 - val_loss: 0.3070 - val_acc: 0.8761\n",
      "Epoch 33/100\n",
      "519/519 [==============================] - 20s 38ms/step - loss: 0.4225 - acc: 0.8171 - val_loss: 0.3714 - val_acc: 0.8229\n",
      "Epoch 34/100\n",
      "519/519 [==============================] - 20s 38ms/step - loss: 0.4163 - acc: 0.8151 - val_loss: 0.2992 - val_acc: 0.8671\n",
      "Epoch 35/100\n",
      "519/519 [==============================] - 20s 38ms/step - loss: 0.4258 - acc: 0.8140 - val_loss: 0.3482 - val_acc: 0.8409\n",
      "Epoch 36/100\n",
      "519/519 [==============================] - 20s 38ms/step - loss: 0.4208 - acc: 0.8126 - val_loss: 0.4084 - val_acc: 0.8181\n",
      "Epoch 37/100\n",
      "519/519 [==============================] - 20s 38ms/step - loss: 0.4313 - acc: 0.8091 - val_loss: 0.3143 - val_acc: 0.8738\n",
      "Epoch 38/100\n",
      "519/519 [==============================] - 20s 38ms/step - loss: 0.4274 - acc: 0.8113 - val_loss: 0.3016 - val_acc: 0.8712\n",
      "Epoch 39/100\n",
      "519/519 [==============================] - 20s 38ms/step - loss: 0.4263 - acc: 0.8156 - val_loss: 0.3154 - val_acc: 0.8719\n",
      "Epoch 40/100\n",
      "519/519 [==============================] - 20s 38ms/step - loss: 0.4319 - acc: 0.8096 - val_loss: 0.2897 - val_acc: 0.8746\n",
      "Epoch 41/100\n",
      "519/519 [==============================] - 20s 38ms/step - loss: 0.4318 - acc: 0.8085 - val_loss: 0.3685 - val_acc: 0.8760\n",
      "Epoch 42/100\n",
      "519/519 [==============================] - 20s 38ms/step - loss: 0.4370 - acc: 0.8103 - val_loss: 0.2954 - val_acc: 0.8743\n",
      "Epoch 43/100\n",
      "519/519 [==============================] - 20s 38ms/step - loss: 0.4376 - acc: 0.8063 - val_loss: 0.3211 - val_acc: 0.8642\n",
      "Epoch 44/100\n",
      "519/519 [==============================] - 20s 38ms/step - loss: 0.4462 - acc: 0.8027 - val_loss: 0.3360 - val_acc: 0.8529\n",
      "Epoch 45/100\n",
      "519/519 [==============================] - 20s 38ms/step - loss: 0.4340 - acc: 0.8107 - val_loss: 0.3281 - val_acc: 0.8641\n",
      "Epoch 46/100\n",
      "519/519 [==============================] - 20s 38ms/step - loss: 0.4576 - acc: 0.8007 - val_loss: 0.3034 - val_acc: 0.8761\n",
      "Epoch 47/100\n",
      "519/519 [==============================] - 20s 38ms/step - loss: 0.4511 - acc: 0.7986 - val_loss: 0.3199 - val_acc: 0.8666\n",
      "Epoch 48/100\n",
      "519/519 [==============================] - 20s 38ms/step - loss: 0.4461 - acc: 0.8040 - val_loss: 0.4180 - val_acc: 0.8622\n",
      "Epoch 49/100\n",
      "519/519 [==============================] - 20s 38ms/step - loss: 0.4504 - acc: 0.7993 - val_loss: 0.3007 - val_acc: 0.8721\n",
      "Epoch 50/100\n",
      "519/519 [==============================] - 20s 38ms/step - loss: 0.4530 - acc: 0.7948 - val_loss: 0.3202 - val_acc: 0.8639\n",
      "Epoch 51/100\n",
      "519/519 [==============================] - 20s 38ms/step - loss: 0.4589 - acc: 0.7962 - val_loss: 0.4243 - val_acc: 0.7810\n",
      "Epoch 52/100\n",
      "519/519 [==============================] - 20s 38ms/step - loss: 0.4635 - acc: 0.7977 - val_loss: 0.3706 - val_acc: 0.8434\n",
      "Epoch 53/100\n",
      "519/519 [==============================] - 20s 38ms/step - loss: 0.4511 - acc: 0.7988 - val_loss: 0.3103 - val_acc: 0.8638\n",
      "Epoch 54/100\n",
      "519/519 [==============================] - 20s 38ms/step - loss: 0.4575 - acc: 0.7977 - val_loss: 0.3781 - val_acc: 0.8473\n",
      "Epoch 55/100\n",
      "519/519 [==============================] - 20s 38ms/step - loss: 0.4617 - acc: 0.7945 - val_loss: 0.4326 - val_acc: 0.8376\n",
      "Epoch 56/100\n",
      "519/519 [==============================] - 20s 38ms/step - loss: 0.4674 - acc: 0.7967 - val_loss: 0.3501 - val_acc: 0.8333\n",
      "Epoch 57/100\n",
      "519/519 [==============================] - 20s 38ms/step - loss: 0.4645 - acc: 0.7935 - val_loss: 0.3331 - val_acc: 0.8504\n",
      "Epoch 58/100\n",
      "519/519 [==============================] - 20s 38ms/step - loss: 0.4713 - acc: 0.7893 - val_loss: 0.3547 - val_acc: 0.8323\n",
      "Epoch 59/100\n",
      "519/519 [==============================] - 20s 38ms/step - loss: 0.4745 - acc: 0.7901 - val_loss: 0.3602 - val_acc: 0.8480\n",
      "Epoch 60/100\n",
      "519/519 [==============================] - 20s 38ms/step - loss: 0.4691 - acc: 0.7904 - val_loss: 0.3558 - val_acc: 0.8393\n",
      "Epoch 61/100\n",
      "519/519 [==============================] - 20s 38ms/step - loss: 0.4885 - acc: 0.7820 - val_loss: 0.3754 - val_acc: 0.8428\n",
      "Epoch 62/100\n",
      "519/519 [==============================] - 20s 38ms/step - loss: 0.4780 - acc: 0.7883 - val_loss: 0.3486 - val_acc: 0.8368\n",
      "Epoch 63/100\n",
      "519/519 [==============================] - 20s 38ms/step - loss: 0.4918 - acc: 0.7782 - val_loss: 0.3420 - val_acc: 0.8545\n",
      "Epoch 64/100\n",
      "519/519 [==============================] - 20s 38ms/step - loss: 0.4824 - acc: 0.7885 - val_loss: 0.3451 - val_acc: 0.8573\n",
      "Epoch 65/100\n",
      "519/519 [==============================] - 20s 38ms/step - loss: 0.4881 - acc: 0.7814 - val_loss: 0.3624 - val_acc: 0.8396\n",
      "Epoch 66/100\n",
      "519/519 [==============================] - 20s 38ms/step - loss: 0.4928 - acc: 0.7798 - val_loss: 0.3361 - val_acc: 0.8558\n",
      "Epoch 67/100\n",
      "519/519 [==============================] - 20s 38ms/step - loss: 0.5057 - acc: 0.7706 - val_loss: 0.3827 - val_acc: 0.8340\n",
      "Epoch 68/100\n",
      "519/519 [==============================] - 20s 38ms/step - loss: 0.5249 - acc: 0.7688 - val_loss: 0.3455 - val_acc: 0.8542\n",
      "Epoch 69/100\n",
      "519/519 [==============================] - 20s 38ms/step - loss: 0.5188 - acc: 0.7647 - val_loss: 0.4160 - val_acc: 0.8023\n",
      "Epoch 70/100\n",
      "519/519 [==============================] - 20s 38ms/step - loss: 0.5247 - acc: 0.7702 - val_loss: 0.4029 - val_acc: 0.8317\n",
      "Epoch 71/100\n",
      "519/519 [==============================] - 20s 38ms/step - loss: 0.5140 - acc: 0.7725 - val_loss: 0.5701 - val_acc: 0.6176\n",
      "Epoch 72/100\n",
      "519/519 [==============================] - 20s 38ms/step - loss: 0.5084 - acc: 0.7724 - val_loss: 0.4391 - val_acc: 0.8320\n",
      "Epoch 73/100\n",
      "519/519 [==============================] - 20s 38ms/step - loss: 0.5209 - acc: 0.7661 - val_loss: 0.4151 - val_acc: 0.8123\n",
      "Epoch 74/100\n",
      "519/519 [==============================] - 20s 38ms/step - loss: 0.5211 - acc: 0.7667 - val_loss: 0.4689 - val_acc: 0.7617\n",
      "Epoch 75/100\n",
      "519/519 [==============================] - 20s 38ms/step - loss: 0.5301 - acc: 0.7617 - val_loss: 0.3724 - val_acc: 0.8445\n",
      "Epoch 76/100\n",
      "519/519 [==============================] - 20s 38ms/step - loss: 0.5404 - acc: 0.7576 - val_loss: 0.4268 - val_acc: 0.8341\n",
      "Epoch 77/100\n",
      "519/519 [==============================] - 20s 38ms/step - loss: 0.5324 - acc: 0.7549 - val_loss: 0.4120 - val_acc: 0.8309\n",
      "Epoch 78/100\n",
      "519/519 [==============================] - 20s 38ms/step - loss: 0.5405 - acc: 0.7493 - val_loss: 0.3744 - val_acc: 0.8569\n",
      "Epoch 79/100\n",
      "519/519 [==============================] - 20s 38ms/step - loss: 0.5501 - acc: 0.7519 - val_loss: 0.4751 - val_acc: 0.7706\n",
      "Epoch 80/100\n",
      "519/519 [==============================] - 20s 38ms/step - loss: 0.5447 - acc: 0.7568 - val_loss: 0.3685 - val_acc: 0.8359\n",
      "Epoch 81/100\n",
      "519/519 [==============================] - 20s 38ms/step - loss: 0.5431 - acc: 0.7475 - val_loss: 0.4024 - val_acc: 0.8136\n",
      "Epoch 82/100\n",
      "519/519 [==============================] - 20s 38ms/step - loss: 0.8514 - acc: 0.7426 - val_loss: 0.4702 - val_acc: 0.7884\n",
      "Epoch 83/100\n",
      "519/519 [==============================] - 20s 38ms/step - loss: 0.5502 - acc: 0.7510 - val_loss: 0.3727 - val_acc: 0.8424\n",
      "Epoch 84/100\n",
      "519/519 [==============================] - 20s 38ms/step - loss: 0.5480 - acc: 0.7559 - val_loss: 0.4573 - val_acc: 0.7869\n",
      "Epoch 85/100\n",
      "519/519 [==============================] - 20s 38ms/step - loss: 0.6025 - acc: 0.7452 - val_loss: 0.3889 - val_acc: 0.8127\n",
      "Epoch 86/100\n",
      "519/519 [==============================] - 20s 38ms/step - loss: 0.5541 - acc: 0.7483 - val_loss: 1.3511 - val_acc: 0.8229\n",
      "Epoch 87/100\n",
      "519/519 [==============================] - 20s 38ms/step - loss: 0.5704 - acc: 0.7388 - val_loss: 0.3721 - val_acc: 0.8293\n",
      "Epoch 88/100\n",
      "519/519 [==============================] - 20s 38ms/step - loss: 0.5635 - acc: 0.7392 - val_loss: 0.4470 - val_acc: 0.8198\n",
      "Epoch 89/100\n",
      "519/519 [==============================] - 20s 38ms/step - loss: 0.5822 - acc: 0.7287 - val_loss: 0.4623 - val_acc: 0.7767\n",
      "Epoch 90/100\n",
      "519/519 [==============================] - 20s 38ms/step - loss: 0.5974 - acc: 0.7311 - val_loss: 0.4561 - val_acc: 0.8013\n",
      "Epoch 91/100\n",
      "519/519 [==============================] - 20s 38ms/step - loss: 0.5607 - acc: 0.7391 - val_loss: 0.5262 - val_acc: 0.7602\n",
      "Epoch 92/100\n",
      "519/519 [==============================] - 20s 38ms/step - loss: 1.9240 - acc: 0.6895 - val_loss: 0.4086 - val_acc: 0.8238\n",
      "Epoch 93/100\n",
      "519/519 [==============================] - 20s 38ms/step - loss: 0.5689 - acc: 0.7209 - val_loss: 0.5382 - val_acc: 0.7100\n",
      "Epoch 94/100\n",
      "519/519 [==============================] - 20s 38ms/step - loss: 0.5852 - acc: 0.7367 - val_loss: 0.4680 - val_acc: 0.7796\n",
      "Epoch 95/100\n",
      "519/519 [==============================] - 20s 38ms/step - loss: 0.5888 - acc: 0.7251 - val_loss: 0.4022 - val_acc: 0.8254\n",
      "Epoch 96/100\n",
      "519/519 [==============================] - 20s 38ms/step - loss: 0.5885 - acc: 0.7258 - val_loss: 0.4471 - val_acc: 0.7873\n",
      "Epoch 97/100\n",
      "519/519 [==============================] - 20s 38ms/step - loss: 0.6089 - acc: 0.7121 - val_loss: 0.4636 - val_acc: 0.7933\n",
      "Epoch 98/100\n",
      "519/519 [==============================] - 20s 38ms/step - loss: 0.6273 - acc: 0.6931 - val_loss: 0.4956 - val_acc: 0.8033\n",
      "Epoch 99/100\n",
      "519/519 [==============================] - 20s 38ms/step - loss: 0.5936 - acc: 0.7049 - val_loss: 0.4773 - val_acc: 0.8095\n",
      "Epoch 100/100\n",
      "519/519 [==============================] - 20s 38ms/step - loss: 0.6020 - acc: 0.7083 - val_loss: 0.5295 - val_acc: 0.7593\n"
     ]
    }
   ],
   "source": [
    "history_callback =  model.fit_generator(datagen.flow(X_train, y_train, batch_size=batch_size),\n",
    "                                        epochs=epochs,\n",
    "                                        validation_data=(X_test, y_test),\n",
    "                                        workers=4)"
   ]
  },
  {
   "cell_type": "code",
   "execution_count": null,
   "metadata": {},
   "outputs": [],
   "source": [
    "loss_history = history_callback.history[\"loss\"]"
   ]
  },
  {
   "cell_type": "code",
   "execution_count": null,
   "metadata": {},
   "outputs": [
    {
     "data": {
      "image/png": "[encoded data removed]",
      "text/plain": [
       "<Figure size 432x288 with 1 Axes>"
      ]
     },
     "metadata": {},
     "output_type": "display_data"
    }
   ],
   "source": [
    "plt.plot(loss_history)\n",
    "plt.ylabel('Loss')\n",
    "plt.xlabel('Epoch')\n",
    "plt.show()"
   ]
  },
  {
   "cell_type": "markdown",
   "metadata": {},
   "source": [
    "### Смотрим на предсказания"
   ]
  },
  {
   "cell_type": "code",
   "execution_count": null,
   "metadata": {},
   "outputs": [
    {
     "name": "stdout",
     "output_type": "stream",
     "text": [
      "[0.15493163 0.84506834]\n",
      "[0. 1.]\n"
     ]
    },
    {
     "data": {
      "image/png": "[encoded data removed]",
      "text/plain": [
       "<Figure size 432x288 with 1 Axes>"
      ]
     },
     "metadata": {},
     "output_type": "display_data"
    }
   ],
   "source": [
    "img_idx = 1000\n",
    "p_age = model.predict(np.array([X_test[img_idx]]))\n",
    "print(p_age[0])\n",
    "print(y_test[img_idx])\n",
    "plt.imshow(X_test[img_idx].reshape(img_cols, img_rows))\n",
    "plt.show()"
   ]
  },
  {
   "cell_type": "markdown",
   "metadata": {},
   "source": [
    "### Сохраняем модель"
   ]
  },
  {
   "cell_type": "code",
   "execution_count": null,
   "metadata": {},
   "outputs": [
    {
     "name": "stdout",
     "output_type": "stream",
     "text": [
      "Saved model to disk\n"
     ]
    }
   ],
   "source": [
    "model_json = model.to_json()\n",
    "with open(\"gender_model.json\", \"w\") as json_file:\n",
    "    json_file.write(model_json)\n",
    "# serialize weights to HDF5\n",
    "model.save_weights(\"gender_model.h5\")\n",
    "print(\"Saved model to disk\")"
   ]
  },
  {
   "cell_type": "code",
   "execution_count": null,
   "metadata": {},
   "outputs": [],
   "source": [
    "from keras.models import model_from_json"
   ]
  },
  {
   "cell_type": "code",
   "execution_count": null,
   "metadata": {},
   "outputs": [
    {
     "data": {
      "text/plain": [
       "'2.2.0'"
      ]
     },
     "execution_count": 17,
     "metadata": {},
     "output_type": "execute_result"
    }
   ],
   "source": [
    "keras.__version__"
   ]
  },
  {
   "cell_type": "markdown",
   "metadata": {},
   "source": [
    "### Загружаем модель"
   ]
  },
  {
   "cell_type": "code",
   "execution_count": null,
   "metadata": {},
   "outputs": [],
   "source": [
    "# load json and create model\n",
    "json_file = open('gender_model.json', 'r')\n",
    "loaded_model_json = json_file.read()\n",
    "json_file.close()\n",
    "loaded_model = model_from_json(loaded_model_json)"
   ]
  },
  {
   "cell_type": "code",
   "execution_count": null,
   "metadata": {},
   "outputs": [
    {
     "name": "stdout",
     "output_type": "stream",
     "text": [
      "Loaded model from disk\n"
     ]
    }
   ],
   "source": [
    "# load weights into new model\n",
    "loaded_model.load_weights(\"gender_model.h5\")\n",
    "print(\"Loaded model from disk\")"
   ]
  },
  {
   "cell_type": "code",
   "execution_count": null,
   "metadata": {},
   "outputs": [
    {
     "name": "stdout",
     "output_type": "stream",
     "text": [
      "[0.6514349 0.3485651]\n",
      "[1. 0.]\n"
     ]
    },
    {
     "data": {
      "image/png": "[encoded data removed]",
      "text/plain": [
       "<Figure size 432x288 with 1 Axes>"
      ]
     },
     "metadata": {},
     "output_type": "display_data"
    }
   ],
   "source": [
    "img_idx = 1090\n",
    "p_age = loaded_model.predict(np.array([X_test[img_idx]]))\n",
    "print(p_age[0])\n",
    "print(y_test[img_idx])\n",
    "plt.imshow(X_test[img_idx].reshape(img_cols, img_rows))\n",
    "plt.show()"
   ]
  },
  {
   "cell_type": "code",
   "execution_count": null,
   "metadata": {},
   "outputs": [],
   "source": []
  }
 ],
 "metadata": {
  "kernelspec": {
   "display_name": "Python 3",
   "language": "python",
   "name": "python3"
  },
  "language_info": {
   "codemirror_mode": {
    "name": "ipython",
    "version": 3
   },
   "file_extension": ".py",
   "mimetype": "text/x-python",
   "name": "python",
   "nbconvert_exporter": "python",
   "pygments_lexer": "ipython3",
   "version": "3.11.5"
  },
  "toc": {
   "base_numbering": 1,
   "nav_menu": {
    "height": "12px",
    "width": "252px"
   },
   "number_sections": true,
   "sideBar": true,
   "skip_h1_title": false,
   "title_cell": "Table of Contents",
   "title_sidebar": "Contents",
   "toc_cell": false,
   "toc_position": {},
   "toc_section_display": "block",
   "toc_window_display": false
  }
 },
 "nbformat": 4,
 "nbformat_minor": 2
}
